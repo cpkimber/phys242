{
 "cells": [
  {
   "cell_type": "code",
   "execution_count": 26,
   "metadata": {},
   "outputs": [
    {
     "name": "stdout",
     "output_type": "stream",
     "text": [
      "Populating the interactive namespace from numpy and matplotlib\n"
     ]
    },
    {
     "name": "stderr",
     "output_type": "stream",
     "text": [
      "/home/cam/.local/lib/python3.6/site-packages/IPython/core/magics/pylab.py:160: UserWarning: pylab import has clobbered these variables: ['e', 'log']\n",
      "`%matplotlib` prevents importing * from pylab and numpy\n",
      "  \"\\n`%matplotlib` prevents importing * from pylab and numpy\"\n"
     ]
    }
   ],
   "source": [
    "%pylab inline\n",
    "from math import factorial"
   ]
  },
  {
   "cell_type": "markdown",
   "metadata": {},
   "source": [
    "12.26"
   ]
  },
  {
   "cell_type": "markdown",
   "metadata": {},
   "source": [
    "a.)"
   ]
  },
  {
   "cell_type": "code",
   "execution_count": 12,
   "metadata": {},
   "outputs": [
    {
     "data": {
      "text/plain": [
       "1.7375713753372302e-22"
      ]
     },
     "execution_count": 12,
     "metadata": {},
     "output_type": "execute_result"
    }
   ],
   "source": [
    "kb    = 1.38e-23\n",
    "n     = 10\n",
    "de    = 1.5e-23\n",
    "et    = 18e-23\n",
    "q     = et/de\n",
    "omega = (factorial(q + n - 1))/((factorial(n-1))*(factorial(q)))\n",
    "s     = kb * log(omega)\n",
    "s"
   ]
  },
  {
   "cell_type": "markdown",
   "metadata": {},
   "source": [
    "b.)"
   ]
  },
  {
   "cell_type": "code",
   "execution_count": 13,
   "metadata": {},
   "outputs": [
    {
     "data": {
      "text/plain": [
       "2.2619047619047622e-24"
      ]
     },
     "execution_count": 13,
     "metadata": {},
     "output_type": "execute_result"
    }
   ],
   "source": [
    "19e-23/84"
   ]
  },
  {
   "cell_type": "markdown",
   "metadata": {},
   "source": [
    "12.30"
   ]
  },
  {
   "cell_type": "code",
   "execution_count": 59,
   "metadata": {},
   "outputs": [
    {
     "name": "stdout",
     "output_type": "stream",
     "text": [
      "q1     q2       Omega1      Omega2    Omega1Omega2\n",
      "==================================================\n",
      "  0      3    1.00E+00     5.60E+01      5.60E+01\n",
      "  1      2    1.20E+01     2.10E+01      2.52E+02\n",
      "  2      1    7.80E+01     6.00E+00      4.68E+02\n",
      "  3      0    3.64E+02     1.00E+00      3.64E+02\n"
     ]
    },
    {
     "data": {
      "text/plain": [
       "<matplotlib.collections.PathCollection at 0x7f51efe22f98>"
      ]
     },
     "execution_count": 59,
     "metadata": {},
     "output_type": "execute_result"
    },
    {
     "data": {
      "image/png": "[encoded data removed]",
      "text/plain": [
       "<matplotlib.figure.Figure at 0x7f51efe2d3c8>"
      ]
     },
     "metadata": {},
     "output_type": "display_data"
    }
   ],
   "source": [
    "q   = 3           # Total quanta of energy in both blocks\n",
    "n1  = 12          # Atoms in block 1\n",
    "n2  = 6           # Atoms in block 2\n",
    "q1  = 0           # Quanta of energy in block 1\n",
    "q2  = q - q1      # Quanta of energy in block 2\n",
    "total_states = [] # This empty list is used for generating a histogram.\n",
    "q_values     = []\n",
    "omega1_vals  = []\n",
    "omega2_vals  = []\n",
    "\n",
    "print(\"q1     q2       Omega1      Omega2    Omega1Omega2\")\n",
    "print(\"=====\"*10)\n",
    "while q2 >= 0:\n",
    "    omega1 = factorial(q1 + n1-1)/(factorial(q1) * factorial(n1-1))\n",
    "    omega2 = factorial(q2 + n2-1)/(factorial(q2) * factorial(n2-1))\n",
    "    print(\"%3d    %3d    %2.2E     %2.2E      %2.2E\"\n",
    "          %(q1, q2, omega1, omega2, omega1*omega2))\n",
    "    total_states.append(omega1*omega2)\n",
    "    q_values.append(q1)\n",
    "    omega1_vals.append(omega1)\n",
    "    omega2_vals.append(omega2)\n",
    "    q1+=1\n",
    "    q2 = q - q1\n",
    "plt.scatter(q_values, log(omega1_vals))\n",
    "plt.scatter(q_values, log(omega2_vals))\n",
    "plt.scatter(q_values, log(omega1_vals) + log(omega2_vals))"
   ]
  },
  {
   "cell_type": "code",
   "execution_count": 62,
   "metadata": {},
   "outputs": [
    {
     "data": {
      "text/plain": [
       "1.6940089426063957e-20"
      ]
     },
     "execution_count": 62,
     "metadata": {},
     "output_type": "execute_result"
    }
   ],
   "source": [
    "mol = 6.0221e23\n",
    "hbar = 1.05446e-34\n",
    "k = 600\n",
    "m = 0.056/mol\n",
    "w0 = sqrt(k/m)\n",
    "tinv = 0.5/(hbar * w0)\n",
    "tinv**-1"
   ]
  },
  {
   "cell_type": "markdown",
   "metadata": {},
   "source": [
    "12.35"
   ]
  },
  {
   "cell_type": "code",
   "execution_count": 63,
   "metadata": {},
   "outputs": [
    {
     "data": {
      "text/plain": [
       "3.6096864354419881e-21"
      ]
     },
     "execution_count": 63,
     "metadata": {},
     "output_type": "execute_result"
    }
   ],
   "source": [
    "kb = 1.3807e-23\n",
    "kt = 90\n",
    "keff = 4*kt\n",
    "molma = 0.185\n",
    "m = molma/mol\n",
    "\n",
    "hbar * sqrt(keff/m)"
   ]
  }
 ],
 "metadata": {
  "kernelspec": {
   "display_name": "Python 3",
   "language": "python",
   "name": "python3"
  },
  "language_info": {
   "codemirror_mode": {
    "name": "ipython",
    "version": 3
   },
   "file_extension": ".py",
   "mimetype": "text/x-python",
   "name": "python",
   "nbconvert_exporter": "python",
   "pygments_lexer": "ipython3",
   "version": "3.6.3"
  }
 },
 "nbformat": 4,
 "nbformat_minor": 2
}
